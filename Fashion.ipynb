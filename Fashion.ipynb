{
 "cells": [
  {
   "cell_type": "code",
   "execution_count": 1,
   "metadata": {},
   "outputs": [],
   "source": [
    "import sys\n",
    "import time\n",
    "import gensim\n",
    "import re\n",
    "import nltk\n",
    "import os\n",
    "import gzip\n",
    "\n",
    "import pandas as pd\n",
    "import numpy as np\n",
    "\n",
    "from PIL import Image\n",
    "from gensim.models import word2vec\n",
    "\n",
    "from sklearn import datasets\n",
    "from sklearn.model_selection import train_test_split\n",
    "from sklearn.manifold import TSNE\n",
    "from sklearn.metrics.pairwise import cosine_similarity\n",
    "\n",
    "%matplotlib widget\n",
    "import matplotlib.pyplot as plt\n",
    "from matplotlib import offsetbox\n",
    "from mpl_toolkits.mplot3d import Axes3D\n",
    "\n",
    "\n",
    "import datafold.pcfold as pfold\n",
    "from datafold.dynfold import DiffusionMaps\n",
    "from datafold.utils.plot import plot_pairwise_eigenvector\n",
    "\n",
    "from utils.utils import Loaders, Plotters"
   ]
  },
  {
   "cell_type": "code",
   "execution_count": 2,
   "metadata": {},
   "outputs": [],
   "source": [
    "# Load MNIST fashion data\n",
    "X_train, y_train = Loaders.load_mnist('data/fashion', kind='train')\n",
    "X_test, y_test = Loaders.load_mnist('data/fashion', kind='t10k')\n",
    "X_train = X_train/255.0\n",
    "X_test = X_test/255.0"
   ]
  },
  {
   "cell_type": "code",
   "execution_count": 3,
   "metadata": {},
   "outputs": [
    {
     "name": "stdout",
     "output_type": "stream",
     "text": [
      "epsilon=30.760421952779076, cut-off=23.803947410910805\n"
     ]
    },
    {
     "data": {
      "application/vnd.jupyter.widget-view+json": {
       "model_id": "4c38ef1c2c214cd6a30e36da092d8d25",
       "version_major": 2,
       "version_minor": 0
      },
      "text/plain": [
       "Canvas(toolbar=Toolbar(toolitems=[('Home', 'Reset original view', 'home', 'home'), ('Back', 'Back to previous …"
      ]
     },
     "metadata": {},
     "output_type": "display_data"
    }
   ],
   "source": [
    "number_of_elements_train = 1000\n",
    "\n",
    "X_pcm = pfold.PCManifold(X_train[0:number_of_elements_train])\n",
    "X_pcm.optimize_parameters(result_scaling=2)\n",
    "\n",
    "print(f'epsilon={X_pcm.kernel.epsilon}, cut-off={X_pcm.cut_off}')\n",
    "\n",
    "t0 = time.time()\n",
    "dmap = DiffusionMaps(kernel=pfold.GaussianKernel(epsilon=X_pcm.kernel.epsilon),\n",
    "                     n_eigenpairs=6, dist_kwargs=dict(cut_off=X_pcm.cut_off))\n",
    "\n",
    "dmap_ = dmap.fit(X_pcm)\n",
    "\n",
    "plot_pairwise_eigenvector(eigenvectors=dmap.eigenvectors_[:, 1:],\n",
    "                          n=1,\n",
    "                          idx_start=1,\n",
    "                          fig_params=dict(figsize=(10,10)),\n",
    "                          scatter_params=dict(c=y_train[0:number_of_elements_train]))\n",
    "\n"
   ]
  },
  {
   "cell_type": "code",
   "execution_count": 4,
   "metadata": {},
   "outputs": [
    {
     "data": {
      "application/vnd.jupyter.widget-view+json": {
       "model_id": "632c8c12987f47fe94bcf85d74e31a1e",
       "version_major": 2,
       "version_minor": 0
      },
      "text/plain": [
       "Canvas(toolbar=Toolbar(toolitems=[('Home', 'Reset original view', 'home', 'home'), ('Back', 'Back to previous …"
      ]
     },
     "metadata": {},
     "output_type": "display_data"
    }
   ],
   "source": [
    "dmap = dmap_.set_coords([1, 2])\n",
    "X_dmap_train = dmap.transform(X_pcm)\n",
    "Plotters.plot_embedding_fashion_mnist(X_dmap_train, y_train, X_train)"
   ]
  },
  {
   "cell_type": "code",
   "execution_count": 7,
   "metadata": {},
   "outputs": [
    {
     "name": "stdout",
     "output_type": "stream",
     "text": [
      "epsilon=69.21094939375291, cut-off=35.705921116366206\n"
     ]
    }
   ],
   "source": [
    "number_of_elements_train = 1000\n",
    "\n",
    "X_pcm = pfold.PCManifold(X_train[0:number_of_elements_train])\n",
    "X_pcm.optimize_parameters(result_scaling=3)\n",
    "\n",
    "print(f'epsilon={X_pcm.kernel.epsilon}, cut-off={X_pcm.cut_off}')\n",
    "\n",
    "t0 = time.time()\n",
    "dmap = DiffusionMaps(kernel=pfold.GaussianKernel(epsilon=X_pcm.kernel.epsilon),\n",
    "                     n_eigenpairs=6, dist_kwargs=dict(cut_off=X_pcm.cut_off))\n",
    "\n",
    "dmap_ = dmap.fit(X_pcm)\n",
    "\n",
    "dmap = dmap_.set_coords([2, 3, 4])\n",
    "X_dmap_train = dmap.transform(X_pcm)\n"
   ]
  },
  {
   "cell_type": "code",
   "execution_count": 8,
   "metadata": {},
   "outputs": [
    {
     "data": {
      "application/vnd.jupyter.widget-view+json": {
       "model_id": "e291d5fdebe543b1bdcc28415ddcd861",
       "version_major": 2,
       "version_minor": 0
      },
      "text/plain": [
       "Canvas(toolbar=Toolbar(toolitems=[('Home', 'Reset original view', 'home', 'home'), ('Back', 'Back to previous …"
      ]
     },
     "metadata": {},
     "output_type": "display_data"
    }
   ],
   "source": [
    "X =   X_dmap_train\n",
    "y = y_train\n",
    "title=None\n",
    "Plotters.plot_embedding_fashion_mnist_3d(X, y)"
   ]
  },
  {
   "cell_type": "code",
   "execution_count": null,
   "metadata": {},
   "outputs": [],
   "source": []
  },
  {
   "cell_type": "code",
   "execution_count": null,
   "metadata": {},
   "outputs": [],
   "source": []
  }
 ],
 "metadata": {
  "kernelspec": {
   "display_name": "Python 3",
   "language": "python",
   "name": "python3"
  },
  "language_info": {
   "codemirror_mode": {
    "name": "ipython",
    "version": 3
   },
   "file_extension": ".py",
   "mimetype": "text/x-python",
   "name": "python",
   "nbconvert_exporter": "python",
   "pygments_lexer": "ipython3",
   "version": "3.8.2"
  }
 },
 "nbformat": 4,
 "nbformat_minor": 4
}
